{
  "nbformat": 4,
  "nbformat_minor": 0,
  "metadata": {
    "colab": {
      "provenance": []
    },
    "kernelspec": {
      "name": "python3",
      "display_name": "Python 3"
    },
    "language_info": {
      "name": "python"
    }
  },
  "cells": [
    {
      "cell_type": "code",
      "execution_count": null,
      "metadata": {
        "colab": {
          "base_uri": "https://localhost:8080/"
        },
        "id": "EAJ1lv3ZlkVW",
        "outputId": "98bd5e34-2f42-4ef6-8716-727d2dab5c07",
        "collapsed": true
      },
      "outputs": [
        {
          "output_type": "stream",
          "name": "stdout",
          "text": [
            "Collecting netCDF4\n",
            "  Downloading netCDF4-1.7.2-cp310-cp310-manylinux_2_17_x86_64.manylinux2014_x86_64.whl.metadata (1.8 kB)\n",
            "Requirement already satisfied: cftime in /usr/local/lib/python3.10/dist-packages (from netCDF4) (1.6.4.post1)\n",
            "Requirement already satisfied: certifi in /usr/local/lib/python3.10/dist-packages (from netCDF4) (2024.8.30)\n",
            "Requirement already satisfied: numpy in /usr/local/lib/python3.10/dist-packages (from netCDF4) (1.26.4)\n",
            "Downloading netCDF4-1.7.2-cp310-cp310-manylinux_2_17_x86_64.manylinux2014_x86_64.whl (9.1 MB)\n",
            "\u001b[2K   \u001b[90m━━━━━━━━━━━━━━━━━━━━━━━━━━━━━━━━━━━━━━━━\u001b[0m \u001b[32m9.1/9.1 MB\u001b[0m \u001b[31m42.3 MB/s\u001b[0m eta \u001b[36m0:00:00\u001b[0m\n",
            "\u001b[?25hInstalling collected packages: netCDF4\n",
            "Successfully installed netCDF4-1.7.2\n",
            "Requirement already satisfied: cftime in /usr/local/lib/python3.10/dist-packages (1.6.4.post1)\n",
            "Requirement already satisfied: numpy>1.13.3 in /usr/local/lib/python3.10/dist-packages (from cftime) (1.26.4)\n"
          ]
        }
      ],
      "source": [
        "!pip install netCDF4\n",
        "!pip install cftime\n",
        "\n",
        "#il faut l'executer une fois pour importer les librairies"
      ]
    },
    {
      "cell_type": "code",
      "source": [
        "import xarray as xr\n",
        "import numpy as np\n",
        "import os\n",
        "import cftime\n",
        "from google.colab import drive\n",
        "import pandas as pd\n",
        "drive.mount('/content/drive')"
      ],
      "metadata": {
        "colab": {
          "base_uri": "https://localhost:8080/"
        },
        "id": "8yM4pmLZlnEX",
        "outputId": "4e377942-7805-47db-85e3-51b441111023"
      },
      "execution_count": null,
      "outputs": [
        {
          "output_type": "stream",
          "name": "stdout",
          "text": [
            "Drive already mounted at /content/drive; to attempt to forcibly remount, call drive.mount(\"/content/drive\", force_remount=True).\n"
          ]
        }
      ]
    },
    {
      "cell_type": "code",
      "source": [
        "path='drive/MyDrive/projet/data'"
      ],
      "metadata": {
        "id": "xCeQjCdrlp1B"
      },
      "execution_count": null,
      "outputs": []
    },
    {
      "cell_type": "code",
      "source": [
        "# Étape 1: Réduire la granularité des données\n",
        "def reduce_granularity(ds, target_points=1000):\n",
        "    lat_points = ds.sizes['lat']\n",
        "    lon_points = ds.sizes['lon']\n",
        "    total_points = lat_points * lon_points\n",
        "    factor = int(np.sqrt(total_points / target_points))\n",
        "    ds_reduced = ds.coarsen(lat=factor, lon=factor, boundary='trim').mean()\n",
        "    return ds_reduced\n",
        "\n",
        "# Conversion des objets cftime en datetime\n",
        "def convert_cftime_to_datetime(time_data):\n",
        "    if isinstance(time_data[0], cftime.datetime):\n",
        "        return np.array([pd.Timestamp(date.isoformat()) for date in time_data])\n",
        "    return pd.to_datetime(time_data)\n",
        "\n",
        "# Étape 2: Séparer les données entre passées et présentes\n",
        "def split_past_present(ds, past_end='1950-12-31', present_start='1951-01-01'):\n",
        "    # Get the actual time range of the dataset\n",
        "    start_date = ds['time'].min().dt.strftime('%Y-%m-%d').values.item()\n",
        "    end_date = ds['time'].max().dt.strftime('%Y-%m-%d').values.item()\n",
        "    # Adjust past_end if it's beyond the dataset's end date\n",
        "    past_end = min(past_end, end_date)\n",
        "    # Select data within the dataset's time range\n",
        "    y_past = ds.sel(time=slice(start_date, past_end))\n",
        "    y_present = ds.sel(time=slice(present_start, end_date))\n",
        "    return y_past, y_present\n",
        "\n",
        "# Étape 3: Calculer la saisonnalité (moyenne mensuelle)\n",
        "def calculate_seasonalities(y_past):\n",
        "    # Check if y_past is empty and handle it\n",
        "    if y_past.time.size == 0:\n",
        "        # If empty, return NaN or a suitable placeholder\n",
        "        return None  # or np.nan, or a placeholder dataset\n",
        "\n",
        "    seasonalities = y_past.groupby('time.month').mean('time')\n",
        "    return seasonalities\n",
        "\n",
        "# Étape 4: Calculer les anomalies\n",
        "def calculate_anomalies(data, seasonalities):\n",
        "    # Check if data or seasonalities are empty\n",
        "    if data.time.size == 0 or seasonalities is None:\n",
        "        # If empty, return NaN or a suitable placeholder\n",
        "        return None  # or np.nan, or a placeholder dataset\n",
        "\n",
        "    anomalies = data.groupby('time.month') - seasonalities\n",
        "    return anomalies\n",
        "\n",
        "\n",
        "\n",
        "# Étape 5: Stocker les anomalies dans des arrays numpy\n",
        "def process_simulations(path):\n",
        "    Y_past_anomalies = []\n",
        "    Y_present_anomalies = []\n",
        "\n",
        "    for file_name in os.listdir(path):\n",
        "        file_path = os.path.join(path, file_name)\n",
        "        if file_name.endswith('.nc'):\n",
        "            ds = xr.open_dataset(file_path, decode_times=False)\n",
        "            ds['time'] = convert_cftime_to_datetime(ds['time'].values)\n",
        "            print(f\"Processing file: {file_name}, time range: {ds['time'].min().values} to {ds['time'].max().values}\")\n",
        "            ds = reduce_granularity(ds)\n",
        "\n",
        "            y_past, y_present = split_past_present(ds)\n",
        "\n",
        "            seasonalities = calculate_seasonalities(y_past)\n",
        "\n",
        "            y_past_anomalies = calculate_anomalies(y_past, seasonalities)\n",
        "            y_present_anomalies = calculate_anomalies(y_present, seasonalities)\n",
        "\n",
        "            Y_past_anomalies.append(y_past_anomalies)\n",
        "            Y_present_anomalies.append(y_present_anomalies)\n",
        "\n",
        "    return Y_past_anomalies, Y_present_anomalies\n",
        "\n",
        "# Étape 6: Remodeler les dimensions\n",
        "#def reshape_anomalies(Y_anomalies):\n",
        " #   reshaped_anomalies = np.vstack(\n",
        "       # [anomaly.values.reshape(anomaly.shape[0] * anomaly.shape[1], -1) for anomaly in Y_anomalies]\n",
        "    #)\n",
        "    #return reshaped_anomalies\n",
        "\n",
        "# Étape 7: Calculer la matrice de covariance C_N\n",
        "def compute_covariance_and_signal(Y_past_reshaped, Y_present_reshaped):\n",
        "    C_N = np.cov(Y_past_reshaped, rowvar=False)\n",
        "    response_past = np.mean(Y_past_reshaped, axis=0)\n",
        "    response_present = np.mean(Y_present_reshaped, axis=0)\n",
        "    X = response_present - response_past\n",
        "    return C_N, X\n",
        "\n",
        "# Étape 8: Calculer le détecteur optimal beta\n",
        "def calculate_beta(C_N, X):\n",
        "    return np.linalg.solve(C_N, X)\n",
        "\n",
        "\n",
        "Y_past_anomalies, Y_present_anomalies = process_simulations(path)\n",
        "\n",
        "# Étape 2 : Reshaper les anomalies\n",
        "#Y_past_reshaped = reshape_anomalies(Y_past_anomalies)\n",
        "#Y_present_reshaped = reshape_anomalies(Y_present_anomalies)\n",
        "\n",
        "# Étape 3 : Calculer la matrice de covariance et le signal\n",
        "C_N, X = compute_covariance_and_signal(Y_past_anomalies, Y_present_anomalies)\n",
        "\n",
        "# Étape 4 : Calculer le détecteur optimal beta\n",
        "beta = calculate_beta(C_N, X)\n",
        "\n",
        "print(\"Beta:\", beta)\n"
      ],
      "metadata": {
        "colab": {
          "base_uri": "https://localhost:8080/",
          "height": 1000
        },
        "id": "H0uPSoqG8wZY",
        "outputId": "aee78d7c-e2d4-49f7-b209-acd4ef1b00d8"
      },
      "execution_count": null,
      "outputs": [
        {
          "output_type": "stream",
          "name": "stdout",
          "text": [
            "Processing file: tas_mon_CESM2_historical_ssp370_r1011.001i1p1f1.188001-202212.nc, time range: 1970-01-01T00:00:00.000010965 to 1970-01-01T00:00:00.000063129\n",
            "Processing file: tas_mon_CESM2_historical_ssp370_r1031.002i1p1f1.188001-202212.nc, time range: 1970-01-01T00:00:00.000010965 to 1970-01-01T00:00:00.000063129\n",
            "Processing file: tas_mon_CESM2_historical_ssp370_r1051.003i1p1f1.188001-202212.nc, time range: 1970-01-01T00:00:00.000010965 to 1970-01-01T00:00:00.000063129\n",
            "Processing file: tas_mon_CESM2_historical_ssp370_r1071.004i1p1f1.188001-202212.nc, time range: 1970-01-01T00:00:00.000010965 to 1970-01-01T00:00:00.000063129\n",
            "Processing file: tas_mon_CESM2_historical_ssp370_r1091.005i1p1f1.188001-202212.nc, time range: 1970-01-01T00:00:00.000010965 to 1970-01-01T00:00:00.000063129\n",
            "Processing file: tas_mon_CESM2_historical_ssp370_r1111.006i1p1f1.188001-202212.nc, time range: 1970-01-01T00:00:00.000010965 to 1970-01-01T00:00:00.000063129\n",
            "Processing file: tas_mon_CESM2_historical_ssp370_r1131.007i1p1f1.188001-202212.nc, time range: 1970-01-01T00:00:00.000010965 to 1970-01-01T00:00:00.000063129\n",
            "Processing file: tas_mon_CESM2_historical_ssp370_r1151.008i1p1f1.188001-202212.nc, time range: 1970-01-01T00:00:00.000010965 to 1970-01-01T00:00:00.000063129\n",
            "Processing file: tas_mon_CESM2_historical_ssp370_r1171.009i1p1f1.188001-202212.nc, time range: 1970-01-01T00:00:00.000010965 to 1970-01-01T00:00:00.000063129\n",
            "Processing file: tas_mon_CESM2_historical_ssp370_r1191.010i1p1f1.188001-202212.nc, time range: 1970-01-01T00:00:00.000010965 to 1970-01-01T00:00:00.000063129\n",
            "Processing file: tas_mon_CESM2_historical_ssp370_r1231.011i1p1f1.188001-202212.nc, time range: 1970-01-01T00:00:00.000010965 to 1970-01-01T00:00:00.000063129\n",
            "Processing file: tas_mon_CESM2_historical_ssp370_r1231.012i1p1f1.188001-202212.nc, time range: 1970-01-01T00:00:00.000010965 to 1970-01-01T00:00:00.000063129\n",
            "Processing file: tas_mon_CESM2_historical_ssp370_r1231.013i1p1f1.188001-202212.nc, time range: 1970-01-01T00:00:00.000010965 to 1970-01-01T00:00:00.000063129\n",
            "Processing file: tas_mon_CESM2_historical_ssp370_r1231.014i1p1f1.188001-202212.nc, time range: 1970-01-01T00:00:00.000010965 to 1970-01-01T00:00:00.000063129\n",
            "Processing file: tas_mon_CESM2_historical_ssp370_r1231.015i1p1f1.188001-202212.nc, time range: 1970-01-01T00:00:00.000010965 to 1970-01-01T00:00:00.000063129\n",
            "Processing file: tas_mon_CESM2_historical_ssp370_r1231.016i1p1f1.188001-202212.nc, time range: 1970-01-01T00:00:00.000010965 to 1970-01-01T00:00:00.000063129\n",
            "Processing file: tas_mon_CESM2_historical_ssp370_r1231.017i1p1f1.188001-202212.nc, time range: 1970-01-01T00:00:00.000010965 to 1970-01-01T00:00:00.000063129\n",
            "Processing file: tas_mon_CESM2_historical_ssp370_r1231.018i1p1f1.188001-202212.nc, time range: 1970-01-01T00:00:00.000010965 to 1970-01-01T00:00:00.000063129\n",
            "Processing file: tas_mon_CESM2_historical_ssp370_r1231.019i1p1f1.188001-202212.nc, time range: 1970-01-01T00:00:00.000010965 to 1970-01-01T00:00:00.000063129\n",
            "Processing file: tas_mon_CESM2_historical_ssp370_r1231.020i1p1f1.188001-202212.nc, time range: 1970-01-01T00:00:00.000010965 to 1970-01-01T00:00:00.000063129\n",
            "Processing file: tas_mon_CESM2_historical_ssp370_r1251.011i1p1f1.188001-202212.nc, time range: 1970-01-01T00:00:00.000010965 to 1970-01-01T00:00:00.000063129\n",
            "Processing file: tas_mon_CESM2_historical_ssp370_r1251.012i1p1f1.188001-202212.nc, time range: 1970-01-01T00:00:00.000010965 to 1970-01-01T00:00:00.000063129\n",
            "Processing file: tas_mon_CESM2_historical_ssp370_r1251.013i1p1f1.188001-202212.nc, time range: 1970-01-01T00:00:00.000010965 to 1970-01-01T00:00:00.000063129\n",
            "Processing file: tas_mon_CESM2_historical_ssp370_r1251.014i1p1f1.188001-202212.nc, time range: 1970-01-01T00:00:00.000010965 to 1970-01-01T00:00:00.000063129\n",
            "Processing file: tas_mon_CESM2_historical_ssp370_r1251.015i1p1f1.188001-202212.nc, time range: 1970-01-01T00:00:00.000010965 to 1970-01-01T00:00:00.000063129\n",
            "Processing file: tas_mon_CESM2_historical_ssp370_r1251.016i1p1f1.188001-202212.nc, time range: 1970-01-01T00:00:00.000010965 to 1970-01-01T00:00:00.000063129\n",
            "Processing file: tas_mon_CESM2_historical_ssp370_r1251.017i1p1f1.188001-202212.nc, time range: 1970-01-01T00:00:00.000010965 to 1970-01-01T00:00:00.000063129\n",
            "Processing file: tas_mon_CESM2_historical_ssp370_r1251.018i1p1f1.188001-202212.nc, time range: 1970-01-01T00:00:00.000010965 to 1970-01-01T00:00:00.000063129\n",
            "Processing file: tas_mon_CESM2_historical_ssp370_r1251.019i1p1f1.188001-202212.nc, time range: 1970-01-01T00:00:00.000010965 to 1970-01-01T00:00:00.000063129\n",
            "Processing file: tas_mon_CESM2_historical_ssp370_r1251.020i1p1f1.188001-202212.nc, time range: 1970-01-01T00:00:00.000010965 to 1970-01-01T00:00:00.000063129\n",
            "Processing file: tas_mon_CESM2_historical_ssp370_r1281.011i1p1f1.188001-202212.nc, time range: 1970-01-01T00:00:00.000010965 to 1970-01-01T00:00:00.000063129\n",
            "Processing file: tas_mon_CESM2_historical_ssp370_r1281.012i1p1f1.188001-202212.nc, time range: 1970-01-01T00:00:00.000010965 to 1970-01-01T00:00:00.000063129\n",
            "Processing file: tas_mon_CESM2_historical_ssp370_r1281.013i1p1f1.188001-202212.nc, time range: 1970-01-01T00:00:00.000010965 to 1970-01-01T00:00:00.000063129\n",
            "Processing file: tas_mon_CESM2_historical_ssp370_r1281.014i1p1f1.188001-202212.nc, time range: 1970-01-01T00:00:00.000010965 to 1970-01-01T00:00:00.000063129\n",
            "Processing file: tas_mon_CESM2_historical_ssp370_r1281.015i1p1f1.188001-202212.nc, time range: 1970-01-01T00:00:00.000010965 to 1970-01-01T00:00:00.000063129\n",
            "Processing file: tas_mon_CESM2_historical_ssp370_r1281.016i1p1f1.188001-202212.nc, time range: 1970-01-01T00:00:00.000010965 to 1970-01-01T00:00:00.000063129\n",
            "Processing file: tas_mon_CESM2_historical_ssp370_r1281.017i1p1f1.188001-202212.nc, time range: 1970-01-01T00:00:00.000010965 to 1970-01-01T00:00:00.000063129\n",
            "Processing file: tas_mon_CESM2_historical_ssp370_r1281.018i1p1f1.188001-202212.nc, time range: 1970-01-01T00:00:00.000010965 to 1970-01-01T00:00:00.000063129\n",
            "Processing file: tas_mon_CESM2_historical_ssp370_r1281.019i1p1f1.188001-202212.nc, time range: 1970-01-01T00:00:00.000010965 to 1970-01-01T00:00:00.000063129\n",
            "Processing file: tas_mon_CESM2_historical_ssp370_r1281.020i1p1f1.188001-202212.nc, time range: 1970-01-01T00:00:00.000010965 to 1970-01-01T00:00:00.000063129\n",
            "Processing file: tas_mon_CESM2_historical_ssp370_r1301.011i1p1f1.188001-202212.nc, time range: 1970-01-01T00:00:00.000010965 to 1970-01-01T00:00:00.000063129\n",
            "Processing file: tas_mon_CESM2_historical_ssp370_r1301.012i1p1f1.188001-202212.nc, time range: 1970-01-01T00:00:00.000010965 to 1970-01-01T00:00:00.000063129\n",
            "Processing file: tas_mon_CESM2_historical_ssp370_r1301.013i1p1f1.188001-202212.nc, time range: 1970-01-01T00:00:00.000010965 to 1970-01-01T00:00:00.000063129\n",
            "Processing file: tas_mon_CESM2_historical_ssp370_r1301.014i1p1f1.188001-202212.nc, time range: 1970-01-01T00:00:00.000010965 to 1970-01-01T00:00:00.000063129\n",
            "Processing file: tas_mon_CESM2_historical_ssp370_r1301.015i1p1f1.188001-202212.nc, time range: 1970-01-01T00:00:00.000010965 to 1970-01-01T00:00:00.000063129\n",
            "Processing file: tas_mon_CESM2_historical_ssp370_r1301.016i1p1f1.188001-202212.nc, time range: 1970-01-01T00:00:00.000010965 to 1970-01-01T00:00:00.000063129\n",
            "Processing file: tas_mon_CESM2_historical_ssp370_r1301.017i1p1f1.188001-202212.nc, time range: 1970-01-01T00:00:00.000010965 to 1970-01-01T00:00:00.000063129\n",
            "Processing file: tas_mon_CESM2_historical_ssp370_r1301.018i1p1f1.188001-202212.nc, time range: 1970-01-01T00:00:00.000010965 to 1970-01-01T00:00:00.000063129\n",
            "Processing file: tas_mon_CESM2_historical_ssp370_r1301.019i1p1f1.188001-202212.nc, time range: 1970-01-01T00:00:00.000010965 to 1970-01-01T00:00:00.000063129\n",
            "Processing file: tas_mon_CESM2_historical_ssp370_r1301.020i1p1f1.188001-202212.nc, time range: 1970-01-01T00:00:00.000010965 to 1970-01-01T00:00:00.000063129\n"
          ]
        },
        {
          "output_type": "error",
          "ename": "TypeError",
          "evalue": "unsupported operand type(s) for +: 'NoneType' and 'NoneType'",
          "traceback": [
            "\u001b[0;31m---------------------------------------------------------------------------\u001b[0m",
            "\u001b[0;31mTypeError\u001b[0m                                 Traceback (most recent call last)",
            "\u001b[0;32m<ipython-input-36-1fc406f78c77>\u001b[0m in \u001b[0;36m<cell line: 102>\u001b[0;34m()\u001b[0m\n\u001b[1;32m    100\u001b[0m \u001b[0;34m\u001b[0m\u001b[0m\n\u001b[1;32m    101\u001b[0m \u001b[0;31m# Étape 3 : Calculer la matrice de covariance et le signal\u001b[0m\u001b[0;34m\u001b[0m\u001b[0;34m\u001b[0m\u001b[0m\n\u001b[0;32m--> 102\u001b[0;31m \u001b[0mC_N\u001b[0m\u001b[0;34m,\u001b[0m \u001b[0mX\u001b[0m \u001b[0;34m=\u001b[0m \u001b[0mcompute_covariance_and_signal\u001b[0m\u001b[0;34m(\u001b[0m\u001b[0mY_past_anomalies\u001b[0m\u001b[0;34m,\u001b[0m \u001b[0mY_present_anomalies\u001b[0m\u001b[0;34m)\u001b[0m\u001b[0;34m\u001b[0m\u001b[0;34m\u001b[0m\u001b[0m\n\u001b[0m\u001b[1;32m    103\u001b[0m \u001b[0;34m\u001b[0m\u001b[0m\n\u001b[1;32m    104\u001b[0m \u001b[0;31m# Étape 4 : Calculer le détecteur optimal beta\u001b[0m\u001b[0;34m\u001b[0m\u001b[0;34m\u001b[0m\u001b[0m\n",
            "\u001b[0;32m<ipython-input-36-1fc406f78c77>\u001b[0m in \u001b[0;36mcompute_covariance_and_signal\u001b[0;34m(Y_past_reshaped, Y_present_reshaped)\u001b[0m\n\u001b[1;32m     82\u001b[0m \u001b[0;31m# Étape 7: Calculer la matrice de covariance C_N\u001b[0m\u001b[0;34m\u001b[0m\u001b[0;34m\u001b[0m\u001b[0m\n\u001b[1;32m     83\u001b[0m \u001b[0;32mdef\u001b[0m \u001b[0mcompute_covariance_and_signal\u001b[0m\u001b[0;34m(\u001b[0m\u001b[0mY_past_reshaped\u001b[0m\u001b[0;34m,\u001b[0m \u001b[0mY_present_reshaped\u001b[0m\u001b[0;34m)\u001b[0m\u001b[0;34m:\u001b[0m\u001b[0;34m\u001b[0m\u001b[0;34m\u001b[0m\u001b[0m\n\u001b[0;32m---> 84\u001b[0;31m     \u001b[0mC_N\u001b[0m \u001b[0;34m=\u001b[0m \u001b[0mnp\u001b[0m\u001b[0;34m.\u001b[0m\u001b[0mcov\u001b[0m\u001b[0;34m(\u001b[0m\u001b[0mY_past_reshaped\u001b[0m\u001b[0;34m,\u001b[0m \u001b[0mrowvar\u001b[0m\u001b[0;34m=\u001b[0m\u001b[0;32mFalse\u001b[0m\u001b[0;34m)\u001b[0m\u001b[0;34m\u001b[0m\u001b[0;34m\u001b[0m\u001b[0m\n\u001b[0m\u001b[1;32m     85\u001b[0m     \u001b[0mresponse_past\u001b[0m \u001b[0;34m=\u001b[0m \u001b[0mnp\u001b[0m\u001b[0;34m.\u001b[0m\u001b[0mmean\u001b[0m\u001b[0;34m(\u001b[0m\u001b[0mY_past_reshaped\u001b[0m\u001b[0;34m,\u001b[0m \u001b[0maxis\u001b[0m\u001b[0;34m=\u001b[0m\u001b[0;36m0\u001b[0m\u001b[0;34m)\u001b[0m\u001b[0;34m\u001b[0m\u001b[0;34m\u001b[0m\u001b[0m\n\u001b[1;32m     86\u001b[0m     \u001b[0mresponse_present\u001b[0m \u001b[0;34m=\u001b[0m \u001b[0mnp\u001b[0m\u001b[0;34m.\u001b[0m\u001b[0mmean\u001b[0m\u001b[0;34m(\u001b[0m\u001b[0mY_present_reshaped\u001b[0m\u001b[0;34m,\u001b[0m \u001b[0maxis\u001b[0m\u001b[0;34m=\u001b[0m\u001b[0;36m0\u001b[0m\u001b[0;34m)\u001b[0m\u001b[0;34m\u001b[0m\u001b[0;34m\u001b[0m\u001b[0m\n",
            "\u001b[0;32m/usr/local/lib/python3.10/dist-packages/numpy/lib/function_base.py\u001b[0m in \u001b[0;36mcov\u001b[0;34m(m, y, rowvar, bias, ddof, fweights, aweights, dtype)\u001b[0m\n\u001b[1;32m   2722\u001b[0m             \u001b[0mw\u001b[0m \u001b[0;34m*=\u001b[0m \u001b[0maweights\u001b[0m\u001b[0;34m\u001b[0m\u001b[0;34m\u001b[0m\u001b[0m\n\u001b[1;32m   2723\u001b[0m \u001b[0;34m\u001b[0m\u001b[0m\n\u001b[0;32m-> 2724\u001b[0;31m     \u001b[0mavg\u001b[0m\u001b[0;34m,\u001b[0m \u001b[0mw_sum\u001b[0m \u001b[0;34m=\u001b[0m \u001b[0maverage\u001b[0m\u001b[0;34m(\u001b[0m\u001b[0mX\u001b[0m\u001b[0;34m,\u001b[0m \u001b[0maxis\u001b[0m\u001b[0;34m=\u001b[0m\u001b[0;36m1\u001b[0m\u001b[0;34m,\u001b[0m \u001b[0mweights\u001b[0m\u001b[0;34m=\u001b[0m\u001b[0mw\u001b[0m\u001b[0;34m,\u001b[0m \u001b[0mreturned\u001b[0m\u001b[0;34m=\u001b[0m\u001b[0;32mTrue\u001b[0m\u001b[0;34m)\u001b[0m\u001b[0;34m\u001b[0m\u001b[0;34m\u001b[0m\u001b[0m\n\u001b[0m\u001b[1;32m   2725\u001b[0m     \u001b[0mw_sum\u001b[0m \u001b[0;34m=\u001b[0m \u001b[0mw_sum\u001b[0m\u001b[0;34m[\u001b[0m\u001b[0;36m0\u001b[0m\u001b[0;34m]\u001b[0m\u001b[0;34m\u001b[0m\u001b[0;34m\u001b[0m\u001b[0m\n\u001b[1;32m   2726\u001b[0m \u001b[0;34m\u001b[0m\u001b[0m\n",
            "\u001b[0;32m/usr/local/lib/python3.10/dist-packages/numpy/lib/function_base.py\u001b[0m in \u001b[0;36maverage\u001b[0;34m(a, axis, weights, returned, keepdims)\u001b[0m\n\u001b[1;32m    518\u001b[0m \u001b[0;34m\u001b[0m\u001b[0m\n\u001b[1;32m    519\u001b[0m     \u001b[0;32mif\u001b[0m \u001b[0mweights\u001b[0m \u001b[0;32mis\u001b[0m \u001b[0;32mNone\u001b[0m\u001b[0;34m:\u001b[0m\u001b[0;34m\u001b[0m\u001b[0;34m\u001b[0m\u001b[0m\n\u001b[0;32m--> 520\u001b[0;31m         \u001b[0mavg\u001b[0m \u001b[0;34m=\u001b[0m \u001b[0ma\u001b[0m\u001b[0;34m.\u001b[0m\u001b[0mmean\u001b[0m\u001b[0;34m(\u001b[0m\u001b[0maxis\u001b[0m\u001b[0;34m,\u001b[0m \u001b[0;34m**\u001b[0m\u001b[0mkeepdims_kw\u001b[0m\u001b[0;34m)\u001b[0m\u001b[0;34m\u001b[0m\u001b[0;34m\u001b[0m\u001b[0m\n\u001b[0m\u001b[1;32m    521\u001b[0m         \u001b[0mavg_as_array\u001b[0m \u001b[0;34m=\u001b[0m \u001b[0mnp\u001b[0m\u001b[0;34m.\u001b[0m\u001b[0masanyarray\u001b[0m\u001b[0;34m(\u001b[0m\u001b[0mavg\u001b[0m\u001b[0;34m)\u001b[0m\u001b[0;34m\u001b[0m\u001b[0;34m\u001b[0m\u001b[0m\n\u001b[1;32m    522\u001b[0m         \u001b[0mscl\u001b[0m \u001b[0;34m=\u001b[0m \u001b[0mavg_as_array\u001b[0m\u001b[0;34m.\u001b[0m\u001b[0mdtype\u001b[0m\u001b[0;34m.\u001b[0m\u001b[0mtype\u001b[0m\u001b[0;34m(\u001b[0m\u001b[0ma\u001b[0m\u001b[0;34m.\u001b[0m\u001b[0msize\u001b[0m\u001b[0;34m/\u001b[0m\u001b[0mavg_as_array\u001b[0m\u001b[0;34m.\u001b[0m\u001b[0msize\u001b[0m\u001b[0;34m)\u001b[0m\u001b[0;34m\u001b[0m\u001b[0;34m\u001b[0m\u001b[0m\n",
            "\u001b[0;32m/usr/local/lib/python3.10/dist-packages/numpy/core/_methods.py\u001b[0m in \u001b[0;36m_mean\u001b[0;34m(a, axis, dtype, out, keepdims, where)\u001b[0m\n\u001b[1;32m    116\u001b[0m             \u001b[0mis_float16_result\u001b[0m \u001b[0;34m=\u001b[0m \u001b[0;32mTrue\u001b[0m\u001b[0;34m\u001b[0m\u001b[0;34m\u001b[0m\u001b[0m\n\u001b[1;32m    117\u001b[0m \u001b[0;34m\u001b[0m\u001b[0m\n\u001b[0;32m--> 118\u001b[0;31m     \u001b[0mret\u001b[0m \u001b[0;34m=\u001b[0m \u001b[0mumr_sum\u001b[0m\u001b[0;34m(\u001b[0m\u001b[0marr\u001b[0m\u001b[0;34m,\u001b[0m \u001b[0maxis\u001b[0m\u001b[0;34m,\u001b[0m \u001b[0mdtype\u001b[0m\u001b[0;34m,\u001b[0m \u001b[0mout\u001b[0m\u001b[0;34m,\u001b[0m \u001b[0mkeepdims\u001b[0m\u001b[0;34m,\u001b[0m \u001b[0mwhere\u001b[0m\u001b[0;34m=\u001b[0m\u001b[0mwhere\u001b[0m\u001b[0;34m)\u001b[0m\u001b[0;34m\u001b[0m\u001b[0;34m\u001b[0m\u001b[0m\n\u001b[0m\u001b[1;32m    119\u001b[0m     \u001b[0;32mif\u001b[0m \u001b[0misinstance\u001b[0m\u001b[0;34m(\u001b[0m\u001b[0mret\u001b[0m\u001b[0;34m,\u001b[0m \u001b[0mmu\u001b[0m\u001b[0;34m.\u001b[0m\u001b[0mndarray\u001b[0m\u001b[0;34m)\u001b[0m\u001b[0;34m:\u001b[0m\u001b[0;34m\u001b[0m\u001b[0;34m\u001b[0m\u001b[0m\n\u001b[1;32m    120\u001b[0m         \u001b[0;32mwith\u001b[0m \u001b[0m_no_nep50_warning\u001b[0m\u001b[0;34m(\u001b[0m\u001b[0;34m)\u001b[0m\u001b[0;34m:\u001b[0m\u001b[0;34m\u001b[0m\u001b[0;34m\u001b[0m\u001b[0m\n",
            "\u001b[0;31mTypeError\u001b[0m: unsupported operand type(s) for +: 'NoneType' and 'NoneType'"
          ]
        }
      ]
    },
    {
      "cell_type": "code",
      "source": [],
      "metadata": {
        "id": "DEw9tmXS-K8Q"
      },
      "execution_count": null,
      "outputs": []
    }
  ]
}